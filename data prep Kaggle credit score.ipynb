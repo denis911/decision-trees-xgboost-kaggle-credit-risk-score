{
 "cells": [
  {
   "cell_type": "markdown",
   "id": "5ea93547-8811-402f-9fe4-304305cf5700",
   "metadata": {},
   "source": [
    "# Decision Trees and Ensemble Learning"
   ]
  },
  {
   "cell_type": "markdown",
   "id": "69930009-6bd4-4a2a-93dc-62924d52e589",
   "metadata": {},
   "source": [
    "## Credit risk scoring project"
   ]
  },
  {
   "cell_type": "code",
   "execution_count": 2,
   "id": "0847877b-061c-4aad-a06c-23e1b4b2df49",
   "metadata": {},
   "outputs": [],
   "source": [
    "# Credit risk scoring project\n",
    "# Dataset: https://github.com/gastonstat/CreditScoring\n",
    "\n",
    "import pandas as pd\n",
    "import numpy as np\n",
    "\n",
    "import seaborn as sns\n",
    "from matplotlib import pyplot as plt\n",
    "%matplotlib inline"
   ]
  },
  {
   "cell_type": "code",
   "execution_count": null,
   "id": "fb686b13-ca9a-4396-90f8-27200ce629a1",
   "metadata": {},
   "outputs": [],
   "source": []
  }
 ],
 "metadata": {
  "kernelspec": {
   "display_name": "Python 3 (ipykernel)",
   "language": "python",
   "name": "python3"
  },
  "language_info": {
   "codemirror_mode": {
    "name": "ipython",
    "version": 3
   },
   "file_extension": ".py",
   "mimetype": "text/x-python",
   "name": "python",
   "nbconvert_exporter": "python",
   "pygments_lexer": "ipython3",
   "version": "3.14.0"
  }
 },
 "nbformat": 4,
 "nbformat_minor": 5
}
